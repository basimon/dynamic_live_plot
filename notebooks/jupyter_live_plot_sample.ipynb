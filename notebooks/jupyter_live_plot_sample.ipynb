{
 "cells": [
  {
   "cell_type": "markdown",
   "metadata": {},
   "source": [
    "# JupyterLIvePlot basic usage"
   ]
  },
  {
   "cell_type": "markdown",
   "metadata": {},
   "source": [
    "## background\n",
    "\n",
    "It is not always known at runtime, which data pops up in IOT publish subscriber systems. When it comes plotting these sensor values in a live chart, a flexible solution, which is capable of dynamically add and delete line glyphs is necessary for this task. The class **JupyterLivePlot** is a simple way to plot emerging data, just by passing a dictionary containing the data desired to plot. This notebook shows the usage of this class."
   ]
  },
  {
   "cell_type": "markdown",
   "metadata": {},
   "source": [
    "## basic usage\n",
    "\n",
    "First include the necessary libaries and create an object of a plot. An empty plot will be rendered, yet. This cell is the place where all data will afterwards."
   ]
  },
  {
   "cell_type": "code",
   "execution_count": 21,
   "metadata": {},
   "outputs": [
    {
     "name": "stdout",
     "output_type": "stream",
     "text": [
      "Create plot\n",
      "- width: 800 px\n",
      "- height: 410 px\n"
     ]
    },
    {
     "data": {
      "text/html": [
       "\n",
       "\n",
       "\n",
       "\n",
       "\n",
       "\n",
       "  <div class=\"bk-root\" id=\"681e5858-7e59-4b21-b4c8-3bac0b5eaf21\" data-root-id=\"66224\"></div>\n"
      ]
     },
     "metadata": {},
     "output_type": "display_data"
    },
    {
     "data": {
      "application/javascript": [
       "(function(root) {\n",
       "  function embed_document(root) {\n",
       "    \n",
       "  var docs_json = {\"09907e91-8fbb-4176-ac5a-3787855c21aa\":{\"roots\":{\"references\":[{\"attributes\":{\"below\":[{\"id\":\"66233\",\"type\":\"LinearAxis\"}],\"left\":[{\"id\":\"66238\",\"type\":\"LinearAxis\"}],\"plot_height\":410,\"plot_width\":800,\"renderers\":[{\"id\":\"66233\",\"type\":\"LinearAxis\"},{\"id\":\"66237\",\"type\":\"Grid\"},{\"id\":\"66238\",\"type\":\"LinearAxis\"},{\"id\":\"66242\",\"type\":\"Grid\"},{\"id\":\"66251\",\"type\":\"BoxAnnotation\"},{\"id\":\"66261\",\"type\":\"GlyphRenderer\"}],\"title\":{\"id\":\"66288\",\"type\":\"Title\"},\"toolbar\":{\"id\":\"66249\",\"type\":\"Toolbar\"},\"x_range\":{\"id\":\"66225\",\"type\":\"DataRange1d\"},\"x_scale\":{\"id\":\"66229\",\"type\":\"LinearScale\"},\"y_range\":{\"id\":\"66227\",\"type\":\"DataRange1d\"},\"y_scale\":{\"id\":\"66231\",\"type\":\"LinearScale\"}},\"id\":\"66224\",\"subtype\":\"Figure\",\"type\":\"Plot\"},{\"attributes\":{},\"id\":\"66290\",\"type\":\"BasicTickFormatter\"},{\"attributes\":{\"plot\":{\"id\":\"66224\",\"subtype\":\"Figure\",\"type\":\"Plot\"},\"ticker\":{\"id\":\"66234\",\"type\":\"BasicTicker\"}},\"id\":\"66237\",\"type\":\"Grid\"},{\"attributes\":{},\"id\":\"66292\",\"type\":\"BasicTickFormatter\"},{\"attributes\":{\"formatter\":{\"id\":\"66290\",\"type\":\"BasicTickFormatter\"},\"plot\":{\"id\":\"66224\",\"subtype\":\"Figure\",\"type\":\"Plot\"},\"ticker\":{\"id\":\"66239\",\"type\":\"BasicTicker\"}},\"id\":\"66238\",\"type\":\"LinearAxis\"},{\"attributes\":{},\"id\":\"66295\",\"type\":\"UnionRenderers\"},{\"attributes\":{},\"id\":\"66239\",\"type\":\"BasicTicker\"},{\"attributes\":{},\"id\":\"66296\",\"type\":\"Selection\"},{\"attributes\":{\"dimension\":1,\"plot\":{\"id\":\"66224\",\"subtype\":\"Figure\",\"type\":\"Plot\"},\"ticker\":{\"id\":\"66239\",\"type\":\"BasicTicker\"}},\"id\":\"66242\",\"type\":\"Grid\"},{\"attributes\":{\"formatter\":{\"id\":\"66292\",\"type\":\"BasicTickFormatter\"},\"plot\":{\"id\":\"66224\",\"subtype\":\"Figure\",\"type\":\"Plot\"},\"ticker\":{\"id\":\"66234\",\"type\":\"BasicTicker\"}},\"id\":\"66233\",\"type\":\"LinearAxis\"},{\"attributes\":{\"line_alpha\":0.1,\"line_color\":\"#1f77b4\",\"x\":{\"field\":\"x\"},\"y\":{\"field\":\"dummy\"}},\"id\":\"66260\",\"type\":\"Line\"},{\"attributes\":{\"line_color\":\"#1f77b4\",\"x\":{\"field\":\"x\"},\"y\":{\"field\":\"dummy\"}},\"id\":\"66259\",\"type\":\"Line\"},{\"attributes\":{\"data_source\":{\"id\":\"66223\",\"type\":\"ColumnDataSource\"},\"glyph\":{\"id\":\"66259\",\"type\":\"Line\"},\"hover_glyph\":null,\"muted_glyph\":null,\"name\":\"dummy_glyph\",\"nonselection_glyph\":{\"id\":\"66260\",\"type\":\"Line\"},\"selection_glyph\":null,\"view\":{\"id\":\"66262\",\"type\":\"CDSView\"}},\"id\":\"66261\",\"type\":\"GlyphRenderer\"},{\"attributes\":{},\"id\":\"66243\",\"type\":\"PanTool\"},{\"attributes\":{},\"id\":\"66231\",\"type\":\"LinearScale\"},{\"attributes\":{},\"id\":\"66244\",\"type\":\"WheelZoomTool\"},{\"attributes\":{\"callback\":null,\"data\":{\"dummy\":{\"__ndarray__\":\"AAAAAAAAAAA=\",\"dtype\":\"float64\",\"shape\":[1]},\"x\":{\"__ndarray__\":\"AAAAAAAAAAA=\",\"dtype\":\"float64\",\"shape\":[1]}},\"selected\":{\"id\":\"66296\",\"type\":\"Selection\"},\"selection_policy\":{\"id\":\"66295\",\"type\":\"UnionRenderers\"}},\"id\":\"66223\",\"type\":\"ColumnDataSource\"},{\"attributes\":{},\"id\":\"66229\",\"type\":\"LinearScale\"},{\"attributes\":{\"overlay\":{\"id\":\"66251\",\"type\":\"BoxAnnotation\"}},\"id\":\"66245\",\"type\":\"BoxZoomTool\"},{\"attributes\":{},\"id\":\"66234\",\"type\":\"BasicTicker\"},{\"attributes\":{},\"id\":\"66246\",\"type\":\"SaveTool\"},{\"attributes\":{\"callback\":null},\"id\":\"66225\",\"type\":\"DataRange1d\"},{\"attributes\":{},\"id\":\"66247\",\"type\":\"ResetTool\"},{\"attributes\":{\"callback\":null},\"id\":\"66227\",\"type\":\"DataRange1d\"},{\"attributes\":{\"source\":{\"id\":\"66223\",\"type\":\"ColumnDataSource\"}},\"id\":\"66262\",\"type\":\"CDSView\"},{\"attributes\":{},\"id\":\"66248\",\"type\":\"HelpTool\"},{\"attributes\":{\"active_drag\":\"auto\",\"active_inspect\":\"auto\",\"active_multi\":null,\"active_scroll\":\"auto\",\"active_tap\":\"auto\",\"tools\":[{\"id\":\"66243\",\"type\":\"PanTool\"},{\"id\":\"66244\",\"type\":\"WheelZoomTool\"},{\"id\":\"66245\",\"type\":\"BoxZoomTool\"},{\"id\":\"66246\",\"type\":\"SaveTool\"},{\"id\":\"66247\",\"type\":\"ResetTool\"},{\"id\":\"66248\",\"type\":\"HelpTool\"}]},\"id\":\"66249\",\"type\":\"Toolbar\"},{\"attributes\":{\"bottom_units\":\"screen\",\"fill_alpha\":{\"value\":0.5},\"fill_color\":{\"value\":\"lightgrey\"},\"left_units\":\"screen\",\"level\":\"overlay\",\"line_alpha\":{\"value\":1.0},\"line_color\":{\"value\":\"black\"},\"line_dash\":[4,4],\"line_width\":{\"value\":2},\"plot\":null,\"render_mode\":\"css\",\"right_units\":\"screen\",\"top_units\":\"screen\"},\"id\":\"66251\",\"type\":\"BoxAnnotation\"},{\"attributes\":{\"plot\":null,\"text\":\"\"},\"id\":\"66288\",\"type\":\"Title\"}],\"root_ids\":[\"66224\"]},\"title\":\"Bokeh Application\",\"version\":\"1.0.4\"}};\n",
       "  var render_items = [{\"docid\":\"09907e91-8fbb-4176-ac5a-3787855c21aa\",\"notebook_comms_target\":\"66297\",\"roots\":{\"66224\":\"681e5858-7e59-4b21-b4c8-3bac0b5eaf21\"}}];\n",
       "  root.Bokeh.embed.embed_items_notebook(docs_json, render_items);\n",
       "\n",
       "  }\n",
       "  if (root.Bokeh !== undefined) {\n",
       "    embed_document(root);\n",
       "  } else {\n",
       "    var attempts = 0;\n",
       "    var timer = setInterval(function(root) {\n",
       "      if (root.Bokeh !== undefined) {\n",
       "        embed_document(root);\n",
       "        clearInterval(timer);\n",
       "      }\n",
       "      attempts++;\n",
       "      if (attempts > 100) {\n",
       "        console.log(\"Bokeh: ERROR: Unable to run BokehJS code because BokehJS library is missing\");\n",
       "        clearInterval(timer);\n",
       "      }\n",
       "    }, 10, root)\n",
       "  }\n",
       "})(window);"
      ],
      "application/vnd.bokehjs_exec.v0+json": ""
     },
     "metadata": {
      "application/vnd.bokehjs_exec.v0+json": {
       "id": "66224"
      }
     },
     "output_type": "display_data"
    },
    {
     "name": "stdout",
     "output_type": "stream",
     "text": [
      "del line dummy\n",
      "dummy_glyph\n"
     ]
    }
   ],
   "source": [
    "import dynamic_live_plot.jupyter_live_plot as jlp\n",
    "\n",
    "my_plot = jlp.JupyterLivePlot(plot_width=800, plot_height=410)"
   ]
  },
  {
   "cell_type": "markdown",
   "metadata": {},
   "source": [
    "Member **width_d** is the width of the plot, **width_drop** is the number of samples, after which empty plots are deleted."
   ]
  },
  {
   "cell_type": "code",
   "execution_count": 18,
   "metadata": {},
   "outputs": [],
   "source": [
    "my_plot.width_d = 500\n",
    "my_plot.width_drop = 100"
   ]
  },
  {
   "cell_type": "markdown",
   "metadata": {},
   "source": [
    "To update the plot, data in the form of a dictionary is necessary. Every key in this dictionary corresponds to an individual line plot. The y-values itself are provided by numpy arrays of at least one element. Note that all of these arrays must have the same width. If a line plot is supposed to show empty data, provide np.nan.\n",
    "\n",
    "To provide data for test purposes, the class **DataFactory** is provided in this scope. The argument *n* in the constructor is the number of the line plots desired to be created. Five plots is the maximum number of plots, that can be created. It provides dictionaries containing random functions. To provide corresponding values for a dedicated x value is the purpose of the class method **produce_data**."
   ]
  },
  {
   "cell_type": "code",
   "execution_count": 22,
   "metadata": {},
   "outputs": [
    {
     "name": "stdout",
     "output_type": "stream",
     "text": [
      "Shuffle all lists, this way iterating over\n",
      "them has the same result as random choice.\n",
      "{'humidity': array([-7.05958151]), 'temperature': array([2.46116291]), 'magnetic_field': array([1.54481294]), 'acceleration': array([-0.51426216])}\n"
     ]
    }
   ],
   "source": [
    "import dynamic_live_plot.data_factory as df\n",
    "data_generator=df.DataFactory(n=4)\n",
    "new_data = data_generator.produce_data(0)\n",
    "print( new_data )"
   ]
  },
  {
   "cell_type": "markdown",
   "metadata": {},
   "source": [
    "To push a column of data into the plot use the method **push_data**. As mentioned above, this is done by using a dictionary."
   ]
  },
  {
   "cell_type": "code",
   "execution_count": 23,
   "metadata": {},
   "outputs": [],
   "source": [
    "# first column\n",
    "new_data = data_generator.produce_data(0)\n",
    "my_plot.push_data( new_data )\n",
    "# second column\n",
    "new_data = data_generator.produce_data(0)\n",
    "my_plot.push_data( new_data )"
   ]
  },
  {
   "cell_type": "code",
   "execution_count": 24,
   "metadata": {},
   "outputs": [
    {
     "name": "stdout",
     "output_type": "stream",
     "text": [
      "Shuffle all lists, this way iterating over\n",
      "them has the same result as random choice.\n",
      "del line magnetic_field\n",
      "magnetic_field_glyph\n",
      "del line temperature\n",
      "temperature_glyph\n",
      "Maximum possible plots are None , n default to None\n",
      "Shuffle all lists, this way iterating over\n",
      "them has the same result as random choice.\n",
      "Shuffle all lists, this way iterating over\n",
      "them has the same result as random choice.\n",
      "del line humidity\n",
      "humidity_glyph\n",
      "Maximum possible plots are None , n default to None\n",
      "Shuffle all lists, this way iterating over\n",
      "them has the same result as random choice.\n"
     ]
    }
   ],
   "source": [
    "import time\n",
    "\n",
    "data_generator=df.DataFactory(n=3)\n",
    "\n",
    "dt = 0.01\n",
    "for i in range(200):\n",
    "    my_plot.push_data( data_generator.produce_data(my_plot._x) )\n",
    "    time.sleep(dt)\n",
    "    \n",
    "data_generator=df.DataFactory(n=5)  \n",
    "\n",
    "for i in range(200):\n",
    "    my_plot.push_data( data_generator.produce_data(my_plot._x) )\n",
    "    time.sleep(dt)\n",
    "\n",
    "data_generator=df.DataFactory(n=4)\n",
    "\n",
    "for i in range(200):\n",
    "    my_plot.push_data( data_generator.produce_data(my_plot._x) )\n",
    "    time.sleep(dt)\n",
    "    \n",
    "data_generator=df.DataFactory(n=5)\n",
    "\n",
    "for i in range(200):\n",
    "    my_plot.push_data( data_generator.produce_data(my_plot._x) )\n",
    "    time.sleep(dt)"
   ]
  },
  {
   "cell_type": "markdown",
   "metadata": {},
   "source": [
    "## non-blocking periodic execution\n",
    "\n",
    "To be able to do stuff in a nonblocking manner a function can be called periodically after a period of time. This is very similar to the feature of periodic callbacks in Bokeh. A new thread is created for this purpose. Subsequent cells are not blocked and code can be executed, while the callback might be used to retreive and plot data in a concurrent manner."
   ]
  },
  {
   "cell_type": "code",
   "execution_count": 25,
   "metadata": {},
   "outputs": [],
   "source": [
    "def cb():\n",
    "    my_plot.push_data( data_generator.produce_data(my_plot._x) )\n",
    "\n",
    "my_plot.add_periodic_callback(cb, 100)"
   ]
  },
  {
   "cell_type": "code",
   "execution_count": 26,
   "metadata": {},
   "outputs": [
    {
     "name": "stdout",
     "output_type": "stream",
     "text": [
      "Subsequent cells are not blocked from executing, while plot is still running.\n"
     ]
    }
   ],
   "source": [
    "print(\"Subsequent cells are not blocked from executing, while plot is still running.\")"
   ]
  },
  {
   "cell_type": "markdown",
   "metadata": {},
   "source": [
    "The thread created by **add_periodic_callback** can be deleted any time."
   ]
  },
  {
   "cell_type": "code",
   "execution_count": 27,
   "metadata": {},
   "outputs": [
    {
     "name": "stdout",
     "output_type": "stream",
     "text": [
      "stop thread\n",
      "exit.\n"
     ]
    }
   ],
   "source": [
    "my_plot.remove_periodic_callback()"
   ]
  },
  {
   "cell_type": "markdown",
   "metadata": {},
   "source": [
    "Todo: Create widgets to subscribe data from an MQTT broker."
   ]
  }
 ],
 "metadata": {
  "kernelspec": {
   "display_name": "Python 3",
   "language": "python",
   "name": "python3"
  },
  "language_info": {
   "codemirror_mode": {
    "name": "ipython",
    "version": 3
   },
   "file_extension": ".py",
   "mimetype": "text/x-python",
   "name": "python",
   "nbconvert_exporter": "python",
   "pygments_lexer": "ipython3",
   "version": "3.7.3"
  }
 },
 "nbformat": 4,
 "nbformat_minor": 2
}
